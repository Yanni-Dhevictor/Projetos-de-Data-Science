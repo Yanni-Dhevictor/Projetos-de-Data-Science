{
  "nbformat": 4,
  "nbformat_minor": 0,
  "metadata": {
    "colab": {
      "name": "Projeto - Detectando Fraudes em Cartões de Crédito .ipynb",
      "provenance": [],
      "collapsed_sections": [],
      "authorship_tag": "ABX9TyMivjDPzSx8qFDUj6sTjGVu",
      "include_colab_link": true
    },
    "kernelspec": {
      "name": "python3",
      "display_name": "Python 3"
    },
    "language_info": {
      "name": "python"
    }
  },
  "cells": [
    {
      "cell_type": "markdown",
      "metadata": {
        "id": "view-in-github",
        "colab_type": "text"
      },
      "source": [
        "<a href=\"https://colab.research.google.com/github/Yanni-Dhevictor/Projetos-de-Data-Science/blob/master/Projeto_Detectando_Fraudes_em_Cart%C3%B5es_de_Cr%C3%A9dito_.ipynb\" target=\"_parent\"><img src=\"https://colab.research.google.com/assets/colab-badge.svg\" alt=\"Open In Colab\"/></a>"
      ]
    },
    {
      "cell_type": "markdown",
      "metadata": {
        "id": "lnLqY8SIzOw-"
      },
      "source": [
        "#Detecção de Fraudes em Cartões de Crédito\n",
        "\n",
        "No ultimo ano, o número de ocorrências de fraudes de cartão de crédito aumentaram, alcançando a marca de quase 9 milhões de brasileiros lesados por esse tipo de golpe. \n",
        "Devido as medidas de contenção da pandemia do covid-19 com o lockdown, as compras feitas pelo comércio eletrônico dispararam e consequentemente o número de fraudes em cartões de crédito também.\n",
        "\n",
        "<center><img src = \"https://raw.githubusercontent.com/Yanni-Dhevictor/img/main/e-commerce-isometrico-conceito_52683-39811.jpg\" width = 50% ></center>\n",
        "\n",
        "Com o tempo as técnicas de fraude de cartões tem se diversificado e se tornaram mais sofisticadas, fazendo com que pessoas de qualquer nível de instrução caiam e golpes com um prejuízo de milhares de reais. Com o aumento do uso do comércio eletrônico, técnicas como phishing cresceram 80% e o golpes envolvendo engenharia social cresceram em 70%.\n",
        "\n",
        "<center><img src = \"https://raw.githubusercontent.com/Yanni-Dhevictor/img/main/Data_security_11.jpg\" width = 50%></center>\n",
        "\n",
        "\n",
        "Nesse projeto tenho o objetivo de tratar sobre as fraudes em cartões de crédito, no entanto, diferente dos projetos anteriores, iremos adicionar mais uma camada de conhecimento, que é o uso de técnicas de Interligência Artificial que já são usados em muitos sistemas bancários no processo de análise de comportamento dos portadores dos cartões identificando quando o verdadeiro usuário utiliza ou não o cartão de forma correta.\n",
        "\n",
        "Com um melhor investimento na melhoria no ambiente de detecção de fraudes seria uma economia de grandes valores monetários para a empresa e tempo para o usuário do cartão.\n",
        "\n",
        "##**Agora vamos para o nosso objetivo**\n",
        " \n",
        "<center><img src = \"https://raw.githubusercontent.com/Yanni-Dhevictor/img/main/team-goal.jpg\", width=40% ></center>"
      ]
    },
    {
      "cell_type": "markdown",
      "metadata": {
        "id": "dyzUsUo8p14E"
      },
      "source": [
        "##Captação dos dados\n",
        "\n",
        "Os dados que serão utilizados neste projeto foram disponibilizados por algumas empresas européia de cartão de crédito no ano de 2013. Este dataset contém transações onde foram identificadas 492 fraudes de um total de 284,807 transações realizadas. Os dados se encontram altamente desbalanceados, a classe positiva (fraudes) contabilizam 0.17% de todas as transações.\n",
        "\n",
        "Por motivos de confidencialidade, o dataset possui apenas valores de entrada nomeados como $[V1, V2, V3 \\dots, V28]$ que serão considerados os componentes principais obtidos com PCA(`método de diminuição de dimensionalidade`), as únicas features que não foram transformadas foram as variáveis `Time` e `Amount`.\n",
        "\n",
        "O método PCA possibilita a redução de dimensionalidade por meio da transformação de um grande conjunto de variáveis em tamanhos menores, no entanto que ainda contém maior parte das informações do conjunto maior.\n",
        "\n",
        "Os dados utilizados nesse projeto podem ser recuperados no link do Kaggle de nome [Credit Card Fraud Detection](\"https://www.kaggle.com/mlg-ulb/creditcardfraud\"), onde é mais detalhadamente esplanado sobre os dados e as atualizações do dataset com um guia para melhor entendimento."
      ]
    },
    {
      "cell_type": "markdown",
      "metadata": {
        "id": "OAkk5k2roNUX"
      },
      "source": [
        "###Importando as bibliotecas necessárias"
      ]
    },
    {
      "cell_type": "code",
      "metadata": {
        "id": "DSo4azINyfUV"
      },
      "source": [
        "#Adicionando a biblioteca para o treino do modelo\n",
        "from warnings import simplefilter\n",
        "simplefilter(action='ignore', category=FutureWarning)\n",
        "\n",
        "!pip install -q scikit-plot"
      ],
      "execution_count": 1,
      "outputs": []
    },
    {
      "cell_type": "code",
      "metadata": {
        "id": "iHTTwbYXdHlb"
      },
      "source": [
        "#Importando as bibliotecas necessárias\n",
        "\n",
        "import pandas as pd\n",
        "import matplotlib.pyplot as plt\n",
        "import seaborn as sns\n",
        "import scikitplot as skplt\n",
        "import numpy as np\n",
        " \n",
        "# configurar o estilo dos gráficos com o Seaborn\n",
        "sns.set_style('dark')\n",
        "\n",
        "file_path = (\"https://www.dropbox.com/s/b44o3t3ehmnx2b7/creditcard.csv?dl=1\")\n",
        "df = pd.read_csv(file_path)"
      ],
      "execution_count": 2,
      "outputs": []
    },
    {
      "cell_type": "markdown",
      "metadata": {
        "id": "WdDgn7RhsNae"
      },
      "source": [
        "###Importando os pacotes necesários\n",
        "\n"
      ]
    },
    {
      "cell_type": "code",
      "metadata": {
        "id": "VFA4aTHesMF8"
      },
      "source": [
        "#Importando os pacotes para o modelo\n",
        "\n",
        "from sklearn.linear_model import LogisticRegression\n",
        "from sklearn.model_selection import train_test_split\n",
        "from sklearn.metrics import roc_auc_score, roc_curve, accuracy_score\n",
        "from imblearn.under_sampling import RandomUnderSampler\n",
        "from sklearn.metrics import confusion_matrix\n",
        "from sklearn.metrics import classification_report"
      ],
      "execution_count": 3,
      "outputs": []
    },
    {
      "cell_type": "markdown",
      "metadata": {
        "id": "6cN6Ndsf5isS"
      },
      "source": [
        "###Realizando a análise exploratória\n",
        "\n",
        "\n",
        "Nesse momento a análise exploratória dos dados terá o objetivo não só de resumir suas características principais, como também de encontrar informações que podemos não encontrar na modelagem de testes ou no teste de hipóteses.\n",
        "\n",
        "<center><img alt=\"Analise Exploratoria\" src= \"https://raw.githubusercontent.com/Yanni-Dhevictor/img/main/analysis.jpg\" width=\"45%\" ></center>\n",
        "<a href='https://br.freepik.com/vetores/negocio'>Negócio vetor criado por stories - br.freepik.com</a>"
      ]
    },
    {
      "cell_type": "code",
      "metadata": {
        "colab": {
          "base_uri": "https://localhost:8080/"
        },
        "id": "OMtzZq5HoJr1",
        "outputId": "262b84fe-6c2e-42b1-ecfb-ac64cf734b2b"
      },
      "source": [
        "#Verificando as dimensões\n",
        "\n",
        "print(\"Dimensões do Dataset\",\n",
        "    \"\\nVariáveis: \",df.shape[0],\"\\n\" \n",
        "      \"Entradas: \",df.shape[1])"
      ],
      "execution_count": 4,
      "outputs": [
        {
          "output_type": "stream",
          "name": "stdout",
          "text": [
            "Dimensões do Dataset \n",
            "Variáveis:  284807 \n",
            "Entradas:  31\n"
          ]
        }
      ]
    },
    {
      "cell_type": "markdown",
      "metadata": {
        "id": "oDwA7kcxdBCa"
      },
      "source": [
        "Aqui é identificado que o dataset possui 31 entradas e 284807 variáveis que preenchem essas entradas.\n",
        "Posteriormente é feito uma análise sobre os 5 primeiros e 5 últimos entradas do conjunto de dados para identificar alguma comportamento anômalo ou um padrão que possa ser útil."
      ]
    },
    {
      "cell_type": "code",
      "metadata": {
        "colab": {
          "base_uri": "https://localhost:8080/",
          "height": 224
        },
        "id": "7gGAAURp5r6Z",
        "outputId": "ae8e5297-3bfd-4a98-a57f-e629c55a18ad"
      },
      "source": [
        "#Visualizando as 5 primeiras entradas\n",
        "df.head()"
      ],
      "execution_count": 5,
      "outputs": [
        {
          "output_type": "execute_result",
          "data": {
            "text/html": [
              "<div>\n",
              "<style scoped>\n",
              "    .dataframe tbody tr th:only-of-type {\n",
              "        vertical-align: middle;\n",
              "    }\n",
              "\n",
              "    .dataframe tbody tr th {\n",
              "        vertical-align: top;\n",
              "    }\n",
              "\n",
              "    .dataframe thead th {\n",
              "        text-align: right;\n",
              "    }\n",
              "</style>\n",
              "<table border=\"1\" class=\"dataframe\">\n",
              "  <thead>\n",
              "    <tr style=\"text-align: right;\">\n",
              "      <th></th>\n",
              "      <th>Time</th>\n",
              "      <th>V1</th>\n",
              "      <th>V2</th>\n",
              "      <th>V3</th>\n",
              "      <th>V4</th>\n",
              "      <th>V5</th>\n",
              "      <th>V6</th>\n",
              "      <th>V7</th>\n",
              "      <th>V8</th>\n",
              "      <th>V9</th>\n",
              "      <th>V10</th>\n",
              "      <th>V11</th>\n",
              "      <th>V12</th>\n",
              "      <th>V13</th>\n",
              "      <th>V14</th>\n",
              "      <th>V15</th>\n",
              "      <th>V16</th>\n",
              "      <th>V17</th>\n",
              "      <th>V18</th>\n",
              "      <th>V19</th>\n",
              "      <th>V20</th>\n",
              "      <th>V21</th>\n",
              "      <th>V22</th>\n",
              "      <th>V23</th>\n",
              "      <th>V24</th>\n",
              "      <th>V25</th>\n",
              "      <th>V26</th>\n",
              "      <th>V27</th>\n",
              "      <th>V28</th>\n",
              "      <th>Amount</th>\n",
              "      <th>Class</th>\n",
              "    </tr>\n",
              "  </thead>\n",
              "  <tbody>\n",
              "    <tr>\n",
              "      <th>0</th>\n",
              "      <td>0.0</td>\n",
              "      <td>-1.359807</td>\n",
              "      <td>-0.072781</td>\n",
              "      <td>2.536347</td>\n",
              "      <td>1.378155</td>\n",
              "      <td>-0.338321</td>\n",
              "      <td>0.462388</td>\n",
              "      <td>0.239599</td>\n",
              "      <td>0.098698</td>\n",
              "      <td>0.363787</td>\n",
              "      <td>0.090794</td>\n",
              "      <td>-0.551600</td>\n",
              "      <td>-0.617801</td>\n",
              "      <td>-0.991390</td>\n",
              "      <td>-0.311169</td>\n",
              "      <td>1.468177</td>\n",
              "      <td>-0.470401</td>\n",
              "      <td>0.207971</td>\n",
              "      <td>0.025791</td>\n",
              "      <td>0.403993</td>\n",
              "      <td>0.251412</td>\n",
              "      <td>-0.018307</td>\n",
              "      <td>0.277838</td>\n",
              "      <td>-0.110474</td>\n",
              "      <td>0.066928</td>\n",
              "      <td>0.128539</td>\n",
              "      <td>-0.189115</td>\n",
              "      <td>0.133558</td>\n",
              "      <td>-0.021053</td>\n",
              "      <td>149.62</td>\n",
              "      <td>0</td>\n",
              "    </tr>\n",
              "    <tr>\n",
              "      <th>1</th>\n",
              "      <td>0.0</td>\n",
              "      <td>1.191857</td>\n",
              "      <td>0.266151</td>\n",
              "      <td>0.166480</td>\n",
              "      <td>0.448154</td>\n",
              "      <td>0.060018</td>\n",
              "      <td>-0.082361</td>\n",
              "      <td>-0.078803</td>\n",
              "      <td>0.085102</td>\n",
              "      <td>-0.255425</td>\n",
              "      <td>-0.166974</td>\n",
              "      <td>1.612727</td>\n",
              "      <td>1.065235</td>\n",
              "      <td>0.489095</td>\n",
              "      <td>-0.143772</td>\n",
              "      <td>0.635558</td>\n",
              "      <td>0.463917</td>\n",
              "      <td>-0.114805</td>\n",
              "      <td>-0.183361</td>\n",
              "      <td>-0.145783</td>\n",
              "      <td>-0.069083</td>\n",
              "      <td>-0.225775</td>\n",
              "      <td>-0.638672</td>\n",
              "      <td>0.101288</td>\n",
              "      <td>-0.339846</td>\n",
              "      <td>0.167170</td>\n",
              "      <td>0.125895</td>\n",
              "      <td>-0.008983</td>\n",
              "      <td>0.014724</td>\n",
              "      <td>2.69</td>\n",
              "      <td>0</td>\n",
              "    </tr>\n",
              "    <tr>\n",
              "      <th>2</th>\n",
              "      <td>1.0</td>\n",
              "      <td>-1.358354</td>\n",
              "      <td>-1.340163</td>\n",
              "      <td>1.773209</td>\n",
              "      <td>0.379780</td>\n",
              "      <td>-0.503198</td>\n",
              "      <td>1.800499</td>\n",
              "      <td>0.791461</td>\n",
              "      <td>0.247676</td>\n",
              "      <td>-1.514654</td>\n",
              "      <td>0.207643</td>\n",
              "      <td>0.624501</td>\n",
              "      <td>0.066084</td>\n",
              "      <td>0.717293</td>\n",
              "      <td>-0.165946</td>\n",
              "      <td>2.345865</td>\n",
              "      <td>-2.890083</td>\n",
              "      <td>1.109969</td>\n",
              "      <td>-0.121359</td>\n",
              "      <td>-2.261857</td>\n",
              "      <td>0.524980</td>\n",
              "      <td>0.247998</td>\n",
              "      <td>0.771679</td>\n",
              "      <td>0.909412</td>\n",
              "      <td>-0.689281</td>\n",
              "      <td>-0.327642</td>\n",
              "      <td>-0.139097</td>\n",
              "      <td>-0.055353</td>\n",
              "      <td>-0.059752</td>\n",
              "      <td>378.66</td>\n",
              "      <td>0</td>\n",
              "    </tr>\n",
              "    <tr>\n",
              "      <th>3</th>\n",
              "      <td>1.0</td>\n",
              "      <td>-0.966272</td>\n",
              "      <td>-0.185226</td>\n",
              "      <td>1.792993</td>\n",
              "      <td>-0.863291</td>\n",
              "      <td>-0.010309</td>\n",
              "      <td>1.247203</td>\n",
              "      <td>0.237609</td>\n",
              "      <td>0.377436</td>\n",
              "      <td>-1.387024</td>\n",
              "      <td>-0.054952</td>\n",
              "      <td>-0.226487</td>\n",
              "      <td>0.178228</td>\n",
              "      <td>0.507757</td>\n",
              "      <td>-0.287924</td>\n",
              "      <td>-0.631418</td>\n",
              "      <td>-1.059647</td>\n",
              "      <td>-0.684093</td>\n",
              "      <td>1.965775</td>\n",
              "      <td>-1.232622</td>\n",
              "      <td>-0.208038</td>\n",
              "      <td>-0.108300</td>\n",
              "      <td>0.005274</td>\n",
              "      <td>-0.190321</td>\n",
              "      <td>-1.175575</td>\n",
              "      <td>0.647376</td>\n",
              "      <td>-0.221929</td>\n",
              "      <td>0.062723</td>\n",
              "      <td>0.061458</td>\n",
              "      <td>123.50</td>\n",
              "      <td>0</td>\n",
              "    </tr>\n",
              "    <tr>\n",
              "      <th>4</th>\n",
              "      <td>2.0</td>\n",
              "      <td>-1.158233</td>\n",
              "      <td>0.877737</td>\n",
              "      <td>1.548718</td>\n",
              "      <td>0.403034</td>\n",
              "      <td>-0.407193</td>\n",
              "      <td>0.095921</td>\n",
              "      <td>0.592941</td>\n",
              "      <td>-0.270533</td>\n",
              "      <td>0.817739</td>\n",
              "      <td>0.753074</td>\n",
              "      <td>-0.822843</td>\n",
              "      <td>0.538196</td>\n",
              "      <td>1.345852</td>\n",
              "      <td>-1.119670</td>\n",
              "      <td>0.175121</td>\n",
              "      <td>-0.451449</td>\n",
              "      <td>-0.237033</td>\n",
              "      <td>-0.038195</td>\n",
              "      <td>0.803487</td>\n",
              "      <td>0.408542</td>\n",
              "      <td>-0.009431</td>\n",
              "      <td>0.798278</td>\n",
              "      <td>-0.137458</td>\n",
              "      <td>0.141267</td>\n",
              "      <td>-0.206010</td>\n",
              "      <td>0.502292</td>\n",
              "      <td>0.219422</td>\n",
              "      <td>0.215153</td>\n",
              "      <td>69.99</td>\n",
              "      <td>0</td>\n",
              "    </tr>\n",
              "  </tbody>\n",
              "</table>\n",
              "</div>"
            ],
            "text/plain": [
              "   Time        V1        V2        V3  ...       V27       V28  Amount  Class\n",
              "0   0.0 -1.359807 -0.072781  2.536347  ...  0.133558 -0.021053  149.62      0\n",
              "1   0.0  1.191857  0.266151  0.166480  ... -0.008983  0.014724    2.69      0\n",
              "2   1.0 -1.358354 -1.340163  1.773209  ... -0.055353 -0.059752  378.66      0\n",
              "3   1.0 -0.966272 -0.185226  1.792993  ...  0.062723  0.061458  123.50      0\n",
              "4   2.0 -1.158233  0.877737  1.548718  ...  0.219422  0.215153   69.99      0\n",
              "\n",
              "[5 rows x 31 columns]"
            ]
          },
          "metadata": {},
          "execution_count": 5
        }
      ]
    },
    {
      "cell_type": "code",
      "metadata": {
        "colab": {
          "base_uri": "https://localhost:8080/",
          "height": 224
        },
        "id": "Gz1iusnhfnsI",
        "outputId": "0cf6c78c-cfe1-4386-dd5c-07b43d1a9f2d"
      },
      "source": [
        "#Visualizando as 5 últimas entradas\n",
        "df.tail()"
      ],
      "execution_count": 6,
      "outputs": [
        {
          "output_type": "execute_result",
          "data": {
            "text/html": [
              "<div>\n",
              "<style scoped>\n",
              "    .dataframe tbody tr th:only-of-type {\n",
              "        vertical-align: middle;\n",
              "    }\n",
              "\n",
              "    .dataframe tbody tr th {\n",
              "        vertical-align: top;\n",
              "    }\n",
              "\n",
              "    .dataframe thead th {\n",
              "        text-align: right;\n",
              "    }\n",
              "</style>\n",
              "<table border=\"1\" class=\"dataframe\">\n",
              "  <thead>\n",
              "    <tr style=\"text-align: right;\">\n",
              "      <th></th>\n",
              "      <th>Time</th>\n",
              "      <th>V1</th>\n",
              "      <th>V2</th>\n",
              "      <th>V3</th>\n",
              "      <th>V4</th>\n",
              "      <th>V5</th>\n",
              "      <th>V6</th>\n",
              "      <th>V7</th>\n",
              "      <th>V8</th>\n",
              "      <th>V9</th>\n",
              "      <th>V10</th>\n",
              "      <th>V11</th>\n",
              "      <th>V12</th>\n",
              "      <th>V13</th>\n",
              "      <th>V14</th>\n",
              "      <th>V15</th>\n",
              "      <th>V16</th>\n",
              "      <th>V17</th>\n",
              "      <th>V18</th>\n",
              "      <th>V19</th>\n",
              "      <th>V20</th>\n",
              "      <th>V21</th>\n",
              "      <th>V22</th>\n",
              "      <th>V23</th>\n",
              "      <th>V24</th>\n",
              "      <th>V25</th>\n",
              "      <th>V26</th>\n",
              "      <th>V27</th>\n",
              "      <th>V28</th>\n",
              "      <th>Amount</th>\n",
              "      <th>Class</th>\n",
              "    </tr>\n",
              "  </thead>\n",
              "  <tbody>\n",
              "    <tr>\n",
              "      <th>284802</th>\n",
              "      <td>172786.0</td>\n",
              "      <td>-11.881118</td>\n",
              "      <td>10.071785</td>\n",
              "      <td>-9.834783</td>\n",
              "      <td>-2.066656</td>\n",
              "      <td>-5.364473</td>\n",
              "      <td>-2.606837</td>\n",
              "      <td>-4.918215</td>\n",
              "      <td>7.305334</td>\n",
              "      <td>1.914428</td>\n",
              "      <td>4.356170</td>\n",
              "      <td>-1.593105</td>\n",
              "      <td>2.711941</td>\n",
              "      <td>-0.689256</td>\n",
              "      <td>4.626942</td>\n",
              "      <td>-0.924459</td>\n",
              "      <td>1.107641</td>\n",
              "      <td>1.991691</td>\n",
              "      <td>0.510632</td>\n",
              "      <td>-0.682920</td>\n",
              "      <td>1.475829</td>\n",
              "      <td>0.213454</td>\n",
              "      <td>0.111864</td>\n",
              "      <td>1.014480</td>\n",
              "      <td>-0.509348</td>\n",
              "      <td>1.436807</td>\n",
              "      <td>0.250034</td>\n",
              "      <td>0.943651</td>\n",
              "      <td>0.823731</td>\n",
              "      <td>0.77</td>\n",
              "      <td>0</td>\n",
              "    </tr>\n",
              "    <tr>\n",
              "      <th>284803</th>\n",
              "      <td>172787.0</td>\n",
              "      <td>-0.732789</td>\n",
              "      <td>-0.055080</td>\n",
              "      <td>2.035030</td>\n",
              "      <td>-0.738589</td>\n",
              "      <td>0.868229</td>\n",
              "      <td>1.058415</td>\n",
              "      <td>0.024330</td>\n",
              "      <td>0.294869</td>\n",
              "      <td>0.584800</td>\n",
              "      <td>-0.975926</td>\n",
              "      <td>-0.150189</td>\n",
              "      <td>0.915802</td>\n",
              "      <td>1.214756</td>\n",
              "      <td>-0.675143</td>\n",
              "      <td>1.164931</td>\n",
              "      <td>-0.711757</td>\n",
              "      <td>-0.025693</td>\n",
              "      <td>-1.221179</td>\n",
              "      <td>-1.545556</td>\n",
              "      <td>0.059616</td>\n",
              "      <td>0.214205</td>\n",
              "      <td>0.924384</td>\n",
              "      <td>0.012463</td>\n",
              "      <td>-1.016226</td>\n",
              "      <td>-0.606624</td>\n",
              "      <td>-0.395255</td>\n",
              "      <td>0.068472</td>\n",
              "      <td>-0.053527</td>\n",
              "      <td>24.79</td>\n",
              "      <td>0</td>\n",
              "    </tr>\n",
              "    <tr>\n",
              "      <th>284804</th>\n",
              "      <td>172788.0</td>\n",
              "      <td>1.919565</td>\n",
              "      <td>-0.301254</td>\n",
              "      <td>-3.249640</td>\n",
              "      <td>-0.557828</td>\n",
              "      <td>2.630515</td>\n",
              "      <td>3.031260</td>\n",
              "      <td>-0.296827</td>\n",
              "      <td>0.708417</td>\n",
              "      <td>0.432454</td>\n",
              "      <td>-0.484782</td>\n",
              "      <td>0.411614</td>\n",
              "      <td>0.063119</td>\n",
              "      <td>-0.183699</td>\n",
              "      <td>-0.510602</td>\n",
              "      <td>1.329284</td>\n",
              "      <td>0.140716</td>\n",
              "      <td>0.313502</td>\n",
              "      <td>0.395652</td>\n",
              "      <td>-0.577252</td>\n",
              "      <td>0.001396</td>\n",
              "      <td>0.232045</td>\n",
              "      <td>0.578229</td>\n",
              "      <td>-0.037501</td>\n",
              "      <td>0.640134</td>\n",
              "      <td>0.265745</td>\n",
              "      <td>-0.087371</td>\n",
              "      <td>0.004455</td>\n",
              "      <td>-0.026561</td>\n",
              "      <td>67.88</td>\n",
              "      <td>0</td>\n",
              "    </tr>\n",
              "    <tr>\n",
              "      <th>284805</th>\n",
              "      <td>172788.0</td>\n",
              "      <td>-0.240440</td>\n",
              "      <td>0.530483</td>\n",
              "      <td>0.702510</td>\n",
              "      <td>0.689799</td>\n",
              "      <td>-0.377961</td>\n",
              "      <td>0.623708</td>\n",
              "      <td>-0.686180</td>\n",
              "      <td>0.679145</td>\n",
              "      <td>0.392087</td>\n",
              "      <td>-0.399126</td>\n",
              "      <td>-1.933849</td>\n",
              "      <td>-0.962886</td>\n",
              "      <td>-1.042082</td>\n",
              "      <td>0.449624</td>\n",
              "      <td>1.962563</td>\n",
              "      <td>-0.608577</td>\n",
              "      <td>0.509928</td>\n",
              "      <td>1.113981</td>\n",
              "      <td>2.897849</td>\n",
              "      <td>0.127434</td>\n",
              "      <td>0.265245</td>\n",
              "      <td>0.800049</td>\n",
              "      <td>-0.163298</td>\n",
              "      <td>0.123205</td>\n",
              "      <td>-0.569159</td>\n",
              "      <td>0.546668</td>\n",
              "      <td>0.108821</td>\n",
              "      <td>0.104533</td>\n",
              "      <td>10.00</td>\n",
              "      <td>0</td>\n",
              "    </tr>\n",
              "    <tr>\n",
              "      <th>284806</th>\n",
              "      <td>172792.0</td>\n",
              "      <td>-0.533413</td>\n",
              "      <td>-0.189733</td>\n",
              "      <td>0.703337</td>\n",
              "      <td>-0.506271</td>\n",
              "      <td>-0.012546</td>\n",
              "      <td>-0.649617</td>\n",
              "      <td>1.577006</td>\n",
              "      <td>-0.414650</td>\n",
              "      <td>0.486180</td>\n",
              "      <td>-0.915427</td>\n",
              "      <td>-1.040458</td>\n",
              "      <td>-0.031513</td>\n",
              "      <td>-0.188093</td>\n",
              "      <td>-0.084316</td>\n",
              "      <td>0.041333</td>\n",
              "      <td>-0.302620</td>\n",
              "      <td>-0.660377</td>\n",
              "      <td>0.167430</td>\n",
              "      <td>-0.256117</td>\n",
              "      <td>0.382948</td>\n",
              "      <td>0.261057</td>\n",
              "      <td>0.643078</td>\n",
              "      <td>0.376777</td>\n",
              "      <td>0.008797</td>\n",
              "      <td>-0.473649</td>\n",
              "      <td>-0.818267</td>\n",
              "      <td>-0.002415</td>\n",
              "      <td>0.013649</td>\n",
              "      <td>217.00</td>\n",
              "      <td>0</td>\n",
              "    </tr>\n",
              "  </tbody>\n",
              "</table>\n",
              "</div>"
            ],
            "text/plain": [
              "            Time         V1         V2  ...       V28  Amount  Class\n",
              "284802  172786.0 -11.881118  10.071785  ...  0.823731    0.77      0\n",
              "284803  172787.0  -0.732789  -0.055080  ... -0.053527   24.79      0\n",
              "284804  172788.0   1.919565  -0.301254  ... -0.026561   67.88      0\n",
              "284805  172788.0  -0.240440   0.530483  ...  0.104533   10.00      0\n",
              "284806  172792.0  -0.533413  -0.189733  ...  0.013649  217.00      0\n",
              "\n",
              "[5 rows x 31 columns]"
            ]
          },
          "metadata": {},
          "execution_count": 6
        }
      ]
    },
    {
      "cell_type": "code",
      "metadata": {
        "colab": {
          "base_uri": "https://localhost:8080/",
          "height": 317
        },
        "id": "6_F5r-S45uAM",
        "outputId": "4c0cb859-955a-49c8-a63e-8bc01f57dc3b"
      },
      "source": [
        "#Visualizando o resumo estatístico\n",
        "df.describe()"
      ],
      "execution_count": 7,
      "outputs": [
        {
          "output_type": "execute_result",
          "data": {
            "text/html": [
              "<div>\n",
              "<style scoped>\n",
              "    .dataframe tbody tr th:only-of-type {\n",
              "        vertical-align: middle;\n",
              "    }\n",
              "\n",
              "    .dataframe tbody tr th {\n",
              "        vertical-align: top;\n",
              "    }\n",
              "\n",
              "    .dataframe thead th {\n",
              "        text-align: right;\n",
              "    }\n",
              "</style>\n",
              "<table border=\"1\" class=\"dataframe\">\n",
              "  <thead>\n",
              "    <tr style=\"text-align: right;\">\n",
              "      <th></th>\n",
              "      <th>Time</th>\n",
              "      <th>V1</th>\n",
              "      <th>V2</th>\n",
              "      <th>V3</th>\n",
              "      <th>V4</th>\n",
              "      <th>V5</th>\n",
              "      <th>V6</th>\n",
              "      <th>V7</th>\n",
              "      <th>V8</th>\n",
              "      <th>V9</th>\n",
              "      <th>V10</th>\n",
              "      <th>V11</th>\n",
              "      <th>V12</th>\n",
              "      <th>V13</th>\n",
              "      <th>V14</th>\n",
              "      <th>V15</th>\n",
              "      <th>V16</th>\n",
              "      <th>V17</th>\n",
              "      <th>V18</th>\n",
              "      <th>V19</th>\n",
              "      <th>V20</th>\n",
              "      <th>V21</th>\n",
              "      <th>V22</th>\n",
              "      <th>V23</th>\n",
              "      <th>V24</th>\n",
              "      <th>V25</th>\n",
              "      <th>V26</th>\n",
              "      <th>V27</th>\n",
              "      <th>V28</th>\n",
              "      <th>Amount</th>\n",
              "      <th>Class</th>\n",
              "    </tr>\n",
              "  </thead>\n",
              "  <tbody>\n",
              "    <tr>\n",
              "      <th>count</th>\n",
              "      <td>284807.000000</td>\n",
              "      <td>2.848070e+05</td>\n",
              "      <td>2.848070e+05</td>\n",
              "      <td>2.848070e+05</td>\n",
              "      <td>2.848070e+05</td>\n",
              "      <td>2.848070e+05</td>\n",
              "      <td>2.848070e+05</td>\n",
              "      <td>2.848070e+05</td>\n",
              "      <td>2.848070e+05</td>\n",
              "      <td>2.848070e+05</td>\n",
              "      <td>2.848070e+05</td>\n",
              "      <td>2.848070e+05</td>\n",
              "      <td>2.848070e+05</td>\n",
              "      <td>2.848070e+05</td>\n",
              "      <td>2.848070e+05</td>\n",
              "      <td>2.848070e+05</td>\n",
              "      <td>2.848070e+05</td>\n",
              "      <td>2.848070e+05</td>\n",
              "      <td>2.848070e+05</td>\n",
              "      <td>2.848070e+05</td>\n",
              "      <td>2.848070e+05</td>\n",
              "      <td>2.848070e+05</td>\n",
              "      <td>2.848070e+05</td>\n",
              "      <td>2.848070e+05</td>\n",
              "      <td>2.848070e+05</td>\n",
              "      <td>2.848070e+05</td>\n",
              "      <td>2.848070e+05</td>\n",
              "      <td>2.848070e+05</td>\n",
              "      <td>2.848070e+05</td>\n",
              "      <td>284807.000000</td>\n",
              "      <td>284807.000000</td>\n",
              "    </tr>\n",
              "    <tr>\n",
              "      <th>mean</th>\n",
              "      <td>94813.859575</td>\n",
              "      <td>3.919560e-15</td>\n",
              "      <td>5.688174e-16</td>\n",
              "      <td>-8.769071e-15</td>\n",
              "      <td>2.782312e-15</td>\n",
              "      <td>-1.552563e-15</td>\n",
              "      <td>2.010663e-15</td>\n",
              "      <td>-1.694249e-15</td>\n",
              "      <td>-1.927028e-16</td>\n",
              "      <td>-3.137024e-15</td>\n",
              "      <td>1.768627e-15</td>\n",
              "      <td>9.170318e-16</td>\n",
              "      <td>-1.810658e-15</td>\n",
              "      <td>1.693438e-15</td>\n",
              "      <td>1.479045e-15</td>\n",
              "      <td>3.482336e-15</td>\n",
              "      <td>1.392007e-15</td>\n",
              "      <td>-7.528491e-16</td>\n",
              "      <td>4.328772e-16</td>\n",
              "      <td>9.049732e-16</td>\n",
              "      <td>5.085503e-16</td>\n",
              "      <td>1.537294e-16</td>\n",
              "      <td>7.959909e-16</td>\n",
              "      <td>5.367590e-16</td>\n",
              "      <td>4.458112e-15</td>\n",
              "      <td>1.453003e-15</td>\n",
              "      <td>1.699104e-15</td>\n",
              "      <td>-3.660161e-16</td>\n",
              "      <td>-1.206049e-16</td>\n",
              "      <td>88.349619</td>\n",
              "      <td>0.001727</td>\n",
              "    </tr>\n",
              "    <tr>\n",
              "      <th>std</th>\n",
              "      <td>47488.145955</td>\n",
              "      <td>1.958696e+00</td>\n",
              "      <td>1.651309e+00</td>\n",
              "      <td>1.516255e+00</td>\n",
              "      <td>1.415869e+00</td>\n",
              "      <td>1.380247e+00</td>\n",
              "      <td>1.332271e+00</td>\n",
              "      <td>1.237094e+00</td>\n",
              "      <td>1.194353e+00</td>\n",
              "      <td>1.098632e+00</td>\n",
              "      <td>1.088850e+00</td>\n",
              "      <td>1.020713e+00</td>\n",
              "      <td>9.992014e-01</td>\n",
              "      <td>9.952742e-01</td>\n",
              "      <td>9.585956e-01</td>\n",
              "      <td>9.153160e-01</td>\n",
              "      <td>8.762529e-01</td>\n",
              "      <td>8.493371e-01</td>\n",
              "      <td>8.381762e-01</td>\n",
              "      <td>8.140405e-01</td>\n",
              "      <td>7.709250e-01</td>\n",
              "      <td>7.345240e-01</td>\n",
              "      <td>7.257016e-01</td>\n",
              "      <td>6.244603e-01</td>\n",
              "      <td>6.056471e-01</td>\n",
              "      <td>5.212781e-01</td>\n",
              "      <td>4.822270e-01</td>\n",
              "      <td>4.036325e-01</td>\n",
              "      <td>3.300833e-01</td>\n",
              "      <td>250.120109</td>\n",
              "      <td>0.041527</td>\n",
              "    </tr>\n",
              "    <tr>\n",
              "      <th>min</th>\n",
              "      <td>0.000000</td>\n",
              "      <td>-5.640751e+01</td>\n",
              "      <td>-7.271573e+01</td>\n",
              "      <td>-4.832559e+01</td>\n",
              "      <td>-5.683171e+00</td>\n",
              "      <td>-1.137433e+02</td>\n",
              "      <td>-2.616051e+01</td>\n",
              "      <td>-4.355724e+01</td>\n",
              "      <td>-7.321672e+01</td>\n",
              "      <td>-1.343407e+01</td>\n",
              "      <td>-2.458826e+01</td>\n",
              "      <td>-4.797473e+00</td>\n",
              "      <td>-1.868371e+01</td>\n",
              "      <td>-5.791881e+00</td>\n",
              "      <td>-1.921433e+01</td>\n",
              "      <td>-4.498945e+00</td>\n",
              "      <td>-1.412985e+01</td>\n",
              "      <td>-2.516280e+01</td>\n",
              "      <td>-9.498746e+00</td>\n",
              "      <td>-7.213527e+00</td>\n",
              "      <td>-5.449772e+01</td>\n",
              "      <td>-3.483038e+01</td>\n",
              "      <td>-1.093314e+01</td>\n",
              "      <td>-4.480774e+01</td>\n",
              "      <td>-2.836627e+00</td>\n",
              "      <td>-1.029540e+01</td>\n",
              "      <td>-2.604551e+00</td>\n",
              "      <td>-2.256568e+01</td>\n",
              "      <td>-1.543008e+01</td>\n",
              "      <td>0.000000</td>\n",
              "      <td>0.000000</td>\n",
              "    </tr>\n",
              "    <tr>\n",
              "      <th>25%</th>\n",
              "      <td>54201.500000</td>\n",
              "      <td>-9.203734e-01</td>\n",
              "      <td>-5.985499e-01</td>\n",
              "      <td>-8.903648e-01</td>\n",
              "      <td>-8.486401e-01</td>\n",
              "      <td>-6.915971e-01</td>\n",
              "      <td>-7.682956e-01</td>\n",
              "      <td>-5.540759e-01</td>\n",
              "      <td>-2.086297e-01</td>\n",
              "      <td>-6.430976e-01</td>\n",
              "      <td>-5.354257e-01</td>\n",
              "      <td>-7.624942e-01</td>\n",
              "      <td>-4.055715e-01</td>\n",
              "      <td>-6.485393e-01</td>\n",
              "      <td>-4.255740e-01</td>\n",
              "      <td>-5.828843e-01</td>\n",
              "      <td>-4.680368e-01</td>\n",
              "      <td>-4.837483e-01</td>\n",
              "      <td>-4.988498e-01</td>\n",
              "      <td>-4.562989e-01</td>\n",
              "      <td>-2.117214e-01</td>\n",
              "      <td>-2.283949e-01</td>\n",
              "      <td>-5.423504e-01</td>\n",
              "      <td>-1.618463e-01</td>\n",
              "      <td>-3.545861e-01</td>\n",
              "      <td>-3.171451e-01</td>\n",
              "      <td>-3.269839e-01</td>\n",
              "      <td>-7.083953e-02</td>\n",
              "      <td>-5.295979e-02</td>\n",
              "      <td>5.600000</td>\n",
              "      <td>0.000000</td>\n",
              "    </tr>\n",
              "    <tr>\n",
              "      <th>50%</th>\n",
              "      <td>84692.000000</td>\n",
              "      <td>1.810880e-02</td>\n",
              "      <td>6.548556e-02</td>\n",
              "      <td>1.798463e-01</td>\n",
              "      <td>-1.984653e-02</td>\n",
              "      <td>-5.433583e-02</td>\n",
              "      <td>-2.741871e-01</td>\n",
              "      <td>4.010308e-02</td>\n",
              "      <td>2.235804e-02</td>\n",
              "      <td>-5.142873e-02</td>\n",
              "      <td>-9.291738e-02</td>\n",
              "      <td>-3.275735e-02</td>\n",
              "      <td>1.400326e-01</td>\n",
              "      <td>-1.356806e-02</td>\n",
              "      <td>5.060132e-02</td>\n",
              "      <td>4.807155e-02</td>\n",
              "      <td>6.641332e-02</td>\n",
              "      <td>-6.567575e-02</td>\n",
              "      <td>-3.636312e-03</td>\n",
              "      <td>3.734823e-03</td>\n",
              "      <td>-6.248109e-02</td>\n",
              "      <td>-2.945017e-02</td>\n",
              "      <td>6.781943e-03</td>\n",
              "      <td>-1.119293e-02</td>\n",
              "      <td>4.097606e-02</td>\n",
              "      <td>1.659350e-02</td>\n",
              "      <td>-5.213911e-02</td>\n",
              "      <td>1.342146e-03</td>\n",
              "      <td>1.124383e-02</td>\n",
              "      <td>22.000000</td>\n",
              "      <td>0.000000</td>\n",
              "    </tr>\n",
              "    <tr>\n",
              "      <th>75%</th>\n",
              "      <td>139320.500000</td>\n",
              "      <td>1.315642e+00</td>\n",
              "      <td>8.037239e-01</td>\n",
              "      <td>1.027196e+00</td>\n",
              "      <td>7.433413e-01</td>\n",
              "      <td>6.119264e-01</td>\n",
              "      <td>3.985649e-01</td>\n",
              "      <td>5.704361e-01</td>\n",
              "      <td>3.273459e-01</td>\n",
              "      <td>5.971390e-01</td>\n",
              "      <td>4.539234e-01</td>\n",
              "      <td>7.395934e-01</td>\n",
              "      <td>6.182380e-01</td>\n",
              "      <td>6.625050e-01</td>\n",
              "      <td>4.931498e-01</td>\n",
              "      <td>6.488208e-01</td>\n",
              "      <td>5.232963e-01</td>\n",
              "      <td>3.996750e-01</td>\n",
              "      <td>5.008067e-01</td>\n",
              "      <td>4.589494e-01</td>\n",
              "      <td>1.330408e-01</td>\n",
              "      <td>1.863772e-01</td>\n",
              "      <td>5.285536e-01</td>\n",
              "      <td>1.476421e-01</td>\n",
              "      <td>4.395266e-01</td>\n",
              "      <td>3.507156e-01</td>\n",
              "      <td>2.409522e-01</td>\n",
              "      <td>9.104512e-02</td>\n",
              "      <td>7.827995e-02</td>\n",
              "      <td>77.165000</td>\n",
              "      <td>0.000000</td>\n",
              "    </tr>\n",
              "    <tr>\n",
              "      <th>max</th>\n",
              "      <td>172792.000000</td>\n",
              "      <td>2.454930e+00</td>\n",
              "      <td>2.205773e+01</td>\n",
              "      <td>9.382558e+00</td>\n",
              "      <td>1.687534e+01</td>\n",
              "      <td>3.480167e+01</td>\n",
              "      <td>7.330163e+01</td>\n",
              "      <td>1.205895e+02</td>\n",
              "      <td>2.000721e+01</td>\n",
              "      <td>1.559499e+01</td>\n",
              "      <td>2.374514e+01</td>\n",
              "      <td>1.201891e+01</td>\n",
              "      <td>7.848392e+00</td>\n",
              "      <td>7.126883e+00</td>\n",
              "      <td>1.052677e+01</td>\n",
              "      <td>8.877742e+00</td>\n",
              "      <td>1.731511e+01</td>\n",
              "      <td>9.253526e+00</td>\n",
              "      <td>5.041069e+00</td>\n",
              "      <td>5.591971e+00</td>\n",
              "      <td>3.942090e+01</td>\n",
              "      <td>2.720284e+01</td>\n",
              "      <td>1.050309e+01</td>\n",
              "      <td>2.252841e+01</td>\n",
              "      <td>4.584549e+00</td>\n",
              "      <td>7.519589e+00</td>\n",
              "      <td>3.517346e+00</td>\n",
              "      <td>3.161220e+01</td>\n",
              "      <td>3.384781e+01</td>\n",
              "      <td>25691.160000</td>\n",
              "      <td>1.000000</td>\n",
              "    </tr>\n",
              "  </tbody>\n",
              "</table>\n",
              "</div>"
            ],
            "text/plain": [
              "                Time            V1  ...         Amount          Class\n",
              "count  284807.000000  2.848070e+05  ...  284807.000000  284807.000000\n",
              "mean    94813.859575  3.919560e-15  ...      88.349619       0.001727\n",
              "std     47488.145955  1.958696e+00  ...     250.120109       0.041527\n",
              "min         0.000000 -5.640751e+01  ...       0.000000       0.000000\n",
              "25%     54201.500000 -9.203734e-01  ...       5.600000       0.000000\n",
              "50%     84692.000000  1.810880e-02  ...      22.000000       0.000000\n",
              "75%    139320.500000  1.315642e+00  ...      77.165000       0.000000\n",
              "max    172792.000000  2.454930e+00  ...   25691.160000       1.000000\n",
              "\n",
              "[8 rows x 31 columns]"
            ]
          },
          "metadata": {},
          "execution_count": 7
        }
      ]
    },
    {
      "cell_type": "markdown",
      "metadata": {
        "id": "uA7r6Qpz7gft"
      },
      "source": [
        "##Procurando por valores ausentes\n",
        "\n"
      ]
    },
    {
      "cell_type": "code",
      "metadata": {
        "colab": {
          "base_uri": "https://localhost:8080/"
        },
        "id": "H5K20j085zVR",
        "outputId": "de617e36-8053-4835-dad7-5b18418af1ef"
      },
      "source": [
        "#Verificando a quantidade de dados ausentes\n",
        "\n",
        "df.isnull().sum().sort_values(ascending=False)"
      ],
      "execution_count": 8,
      "outputs": [
        {
          "output_type": "execute_result",
          "data": {
            "text/plain": [
              "Class     0\n",
              "V14       0\n",
              "V1        0\n",
              "V2        0\n",
              "V3        0\n",
              "V4        0\n",
              "V5        0\n",
              "V6        0\n",
              "V7        0\n",
              "V8        0\n",
              "V9        0\n",
              "V10       0\n",
              "V11       0\n",
              "V12       0\n",
              "V13       0\n",
              "V15       0\n",
              "Amount    0\n",
              "V16       0\n",
              "V17       0\n",
              "V18       0\n",
              "V19       0\n",
              "V20       0\n",
              "V21       0\n",
              "V22       0\n",
              "V23       0\n",
              "V24       0\n",
              "V25       0\n",
              "V26       0\n",
              "V27       0\n",
              "V28       0\n",
              "Time      0\n",
              "dtype: int64"
            ]
          },
          "metadata": {},
          "execution_count": 8
        }
      ]
    },
    {
      "cell_type": "markdown",
      "metadata": {
        "id": "rJdkgP3M7zbS"
      },
      "source": [
        "De acordo com os dados acima o dataset não possui valores ausentes, sendo isso algo bom pois dessa forma outros fatores não irão interferir nos resultados das operações que serão feitas."
      ]
    },
    {
      "cell_type": "markdown",
      "metadata": {
        "id": "sX2NAibr8WcA"
      },
      "source": [
        "##Identificando o balanceamento das classes (Fraudes X Lícitas)\n",
        "\n",
        "Nessa etapa é feita a leitura da quantidade de valores em na coluna `Class` para que dessa forma seja possível descobrir a proporção dos valores existentes.\n",
        "\n",
        "\n",
        "<center><img alt=\"<a href='https://br.freepik.com/vetores/venda'>Venda vetor criado por rawpixel.com - br.freepik.com</a>\" src = \"https://raw.githubusercontent.com/Yanni-Dhevictor/Projetos-de-Data-Science/master/balance.jpg\" width = 50%><center>"
      ]
    },
    {
      "cell_type": "code",
      "metadata": {
        "colab": {
          "base_uri": "https://localhost:8080/",
          "height": 381
        },
        "id": "mNXzuj_hDPYq",
        "outputId": "d605842e-048d-4e19-e804-d4cdfb458eb9"
      },
      "source": [
        "#Plotando o balanceamento das classes\n",
        "print(df.Class.value_counts())\n",
        "print(\"\\n As transações com fraude representam {:.4f}% do dataset. \\n\".format((df[df.Class==1].shape[0] / df.shape[0]) * 100))\n",
        "\n",
        "#Plotando o gráfico de barras para as classes\n",
        "fig, ax = plt.subplots()\n",
        "sns.countplot('Class',data=df);\n",
        "fig.show()\n"
      ],
      "execution_count": 9,
      "outputs": [
        {
          "output_type": "stream",
          "name": "stdout",
          "text": [
            "0    284315\n",
            "1       492\n",
            "Name: Class, dtype: int64\n",
            "\n",
            " As transações com fraude representam 0.1727% do dataset. \n",
            "\n"
          ]
        },
        {
          "output_type": "display_data",
          "data": {
            "image/png": "[encoded data removed]",
            "text/plain": [
              "<Figure size 432x288 with 1 Axes>"
            ]
          },
          "metadata": {}
        }
      ]
    },
    {
      "cell_type": "markdown",
      "metadata": {
        "id": "rKlDCcEzB40D"
      },
      "source": [
        "A plotagem indica que o dataset praticamente não possui casos de fraudes, contabilizando somente 0.1727% de todos os valores registrados, demonstrando claramente que os dados estão desbalanceados, sendo necessário posteriormente um balanceamento desses dados para apurar o real caso desses dados."
      ]
    },
    {
      "cell_type": "markdown",
      "metadata": {
        "id": "DylxJxAPFpxl"
      },
      "source": [
        "<center><img alt = \"<a href='https://br.freepik.com/vetores/desenho-animado'>Desenho animado vetor criado por vectorjuice - br.freepik.com</a>\" src = \"https://raw.githubusercontent.com/Yanni-Dhevictor/Projetos-de-Data-Science/master/personal-investigation.jpg\" width = 50% ></center>"
      ]
    },
    {
      "cell_type": "markdown",
      "metadata": {
        "id": "2ZvF0tN3a2_H"
      },
      "source": [
        "Agora uma análise sobre as variáveis `Time` e `Amount` para ver se possuem dados que valem a pena ser utilizados. "
      ]
    },
    {
      "cell_type": "code",
      "metadata": {
        "id": "-7J2Wl11h22R"
      },
      "source": [
        "#Separando a Classe em épocas \n",
        "df_Tclass = df.iloc[:,[0,30]]"
      ],
      "execution_count": 10,
      "outputs": []
    },
    {
      "cell_type": "code",
      "metadata": {
        "id": "s6ATsnPnpN3h",
        "colab": {
          "base_uri": "https://localhost:8080/",
          "height": 441
        },
        "outputId": "fd1fa3e4-a896-4140-ad72-2f2ca215cc9d"
      },
      "source": [
        "#Plotagem do histograma da variável Time por Classes\n",
        "fig, ax = plt.subplots(nrows=1,ncols=2, sharey=True,tight_layout=True,figsize=(12,6))\n",
        "\n",
        "ax[0].hist(df_Tclass.Time[df_Tclass.Class==0],density = True,bins=40)\n",
        "ax[0].set_title(\"Distribuição de transações lícitas\")\n",
        "ax[0].set_xlabel(\"Valor das transações\")\n",
        "ax[0].set_ylabel(\"Número de transações\")\n",
        "\n",
        "\n",
        "ax[1].hist(df_Tclass.Time[df_Tclass.Class==1],density = True,bins=40)\n",
        "ax[1].set_title(\"Distribuição de fraudes\")\n",
        "ax[1].set_xlabel(\"Valor das Fraudes\")\n",
        "ax[1].set_ylabel(\"Número de Fraudes\")\n",
        "\n",
        "plt.tight_layout()\n",
        "plt.show()"
      ],
      "execution_count": 11,
      "outputs": [
        {
          "output_type": "display_data",
          "data": {
            "image/png": "[encoded data removed]",
            "text/plain": [
              "<Figure size 864x432 with 2 Axes>"
            ]
          },
          "metadata": {}
        }
      ]
    },
    {
      "cell_type": "markdown",
      "metadata": {
        "id": "ljANNQ5MHz-Q"
      },
      "source": [
        "Os dados mostram que nas transações lícitas a quantidade de operações chegam próximo a 100000 (cem mil) que vão de valores de 25000(vinte e cinto mil) até 175000 (cento e setenta e cinco mil), tendo uma queda somente a valores entre 75000 (setenta e cinco mil) e  125000 (cento e vinte cinco mil). Em resumo a quantidade de transações lícitas possui um comportamento mais estável entre a quantidade dos valores transacionados.\n",
        "\n"
      ]
    },
    {
      "cell_type": "markdown",
      "metadata": {
        "id": "w8jnHNCn8vmQ"
      },
      "source": [
        "Para dar melhor prosseguimento a análise dos dados é necessário a separação dos dados de fraude dos que são normais."
      ]
    },
    {
      "cell_type": "code",
      "metadata": {
        "id": "DzH8zGQK-d1J"
      },
      "source": [
        "#Separando o montante e Classe\n",
        "df_classmont = df.iloc[:, [30,29]]\n"
      ],
      "execution_count": 12,
      "outputs": []
    },
    {
      "cell_type": "markdown",
      "metadata": {
        "id": "L_PSaE2f2fSV"
      },
      "source": [
        "###Atenção às análises\n",
        "\n",
        "<center><img  src= \"https://raw.githubusercontent.com/Yanni-Dhevictor/img/main/illustration-concept.jpg\" width = 40%></center>\n",
        "<a href=\"http://www.freepik.com\">Designed by pikisuperstar / Freepik</a>"
      ]
    },
    {
      "cell_type": "code",
      "metadata": {
        "id": "qI9sv-Ia8vDJ"
      },
      "source": [
        "#Separando os dados\n",
        "df_frd = df_classmont.Amount[df_classmont.Class == 1]\n",
        "df_lic = df_classmont.Amount[df_classmont.Class == 0]\n"
      ],
      "execution_count": 13,
      "outputs": []
    },
    {
      "cell_type": "markdown",
      "metadata": {
        "id": "p0X7OO159lQf"
      },
      "source": [
        "###Transações fraudulentas\n",
        "\n",
        "Os dados informam que o número de pessoas vítimas de transações fraudulentas decresce a medida de a quantidade de fraudes aumentam, em outras palavras, a frequência de atingidos se mantém abaixo dos 200 à medida que a quantidade de fraudes aumenta."
      ]
    },
    {
      "cell_type": "code",
      "metadata": {
        "id": "rYYMseUJVq7_",
        "colab": {
          "base_uri": "https://localhost:8080/",
          "height": 458
        },
        "outputId": "13771d20-e96d-41f6-f15d-8541b54e51e1"
      },
      "source": [
        "#Plotagem do histograma da variável Amount\n",
        "fig, ax = plt.subplots(nrows = 2, ncols = 1, sharey = True, tight_layout = True, figsize=(12,6))\n",
        "\n",
        "ax[0].hist(df_frd,density = True,bins = 40)\n",
        "ax[0].set_title(\"Distribuição de quantidades\")\n",
        "ax[0].set_xlabel(\"Quantidade de fraudes\")\n",
        "ax[0].set_ylabel(\"Frequencia de atingidos\")\n",
        "\n",
        "ax[1].hist(df_lic,density= True, bins = 40)\n",
        "ax[1].set_title(\"Distribuição lícitas\")\n",
        "ax[1].set_xlabel(\"Quantidade de transações\")\n",
        "ax[1].set_ylabel(\"Frequência de casos\")"
      ],
      "execution_count": 14,
      "outputs": [
        {
          "output_type": "execute_result",
          "data": {
            "text/plain": [
              "Text(0, 0.5, 'Frequência de casos')"
            ]
          },
          "metadata": {},
          "execution_count": 14
        },
        {
          "output_type": "display_data",
          "data": {
            "image/png": "[encoded data removed]",
            "text/plain": [
              "<Figure size 864x432 with 2 Axes>"
            ]
          },
          "metadata": {}
        }
      ]
    },
    {
      "cell_type": "markdown",
      "metadata": {
        "id": "9JcdN0u4APSX"
      },
      "source": [
        "###Transações lícitas\n",
        "Já os dados das transações lícitas ficam menos favoráveis a identificação e compreensão, no entanto os valores apresentados informas que o número de transações líticas se manteve abaixo dos 200 casos registrados no dataset."
      ]
    },
    {
      "cell_type": "code",
      "metadata": {
        "id": "5u47gaAOcDzG",
        "colab": {
          "base_uri": "https://localhost:8080/",
          "height": 390
        },
        "outputId": "1fa824a1-5913-448d-f14e-40b7bb0b9557"
      },
      "source": [
        "#Plotando os valores de ocorrência que houveram Fraudes\n",
        "fig, ax = plt.subplots(nrows = 2,ncols = 1,figsize=(12,6),sharex=True)\n",
        "\n",
        "\n",
        "ax[0].boxplot(df_frd, vert = False ,showmeans = True)\n",
        "ax[0].set_title(\"Fraudes\")\n",
        "ax[1].boxplot(df_lic, vert = False, showmeans = True)\n",
        "ax[1].set_title(\"Normais\")\n",
        "\n",
        "#df.loc[df['Class']==1].boxplot('Amount',ax=ax,vert=False,figsize=(8,6))\n",
        "\n",
        "#df.loc[df['Class']==0].boxplot('Amount',ax=ax,vert=False,figsize=(8,6))\n",
        "\n",
        "plt.show();"
      ],
      "execution_count": 15,
      "outputs": [
        {
          "output_type": "display_data",
          "data": {
            "image/png": "[encoded data removed]",
            "text/plain": [
              "<Figure size 864x432 with 2 Axes>"
            ]
          },
          "metadata": {}
        }
      ]
    },
    {
      "cell_type": "markdown",
      "metadata": {
        "id": "4dHCERDjXktb"
      },
      "source": [
        "Pelo fato dos dados acima estarem dispostos de forma que se torna impraticável a obtenção de dados úteis para a análise, é necessário uma ampliação na plotagem para que seja possível observar os quartís com clareza.\n",
        "\n",
        "<center><img src = \"https://raw.githubusercontent.com/Yanni-Dhevictor/img/main/20943599.jpg\" width = 50%></center>\n",
        "\n",
        "<a href='https://br.freepik.com/vetores/abstrato'>Abstrato vetor criado por vectorjuice - br.freepik.com</a>"
      ]
    },
    {
      "cell_type": "code",
      "metadata": {
        "colab": {
          "base_uri": "https://localhost:8080/",
          "height": 441
        },
        "id": "z3kEyifMX8fL",
        "outputId": "a978f906-72dd-4fb3-af43-445ded62703b"
      },
      "source": [
        "#Ampliando os plots anteriores\n",
        "fig, ax = plt.subplots(nrows=2, ncols = 1, figsize=(12,6),sharex=True)\n",
        "\n",
        "ax[0].boxplot(df_frd, vert = False, showmeans = True)\n",
        "ax[0].set_title(\"Fraudes\")\n",
        "ax[1].boxplot(df_lic, vert = False, showmeans = True)\n",
        "ax[1].set_title(\"Normais\")\n",
        "\n",
        "plt.xlim((-20,400))\n",
        "plt.tight_layout()"
      ],
      "execution_count": 17,
      "outputs": [
        {
          "output_type": "display_data",
          "data": {
            "image/png": "[encoded data removed]",
            "text/plain": [
              "<Figure size 864x432 with 2 Axes>"
            ]
          },
          "metadata": {}
        }
      ]
    },
    {
      "cell_type": "markdown",
      "metadata": {
        "id": "xRzU_Ozg1uaC"
      },
      "source": [
        "Com o boxplot ampliado, se torna mais fácil agora encontrar os valores de mínimo, mediana e máximo assim como analisar os valores de outliers existentes em ambas plotagens. Lembrando que essas plotagens são dos dados desbalanceados."
      ]
    },
    {
      "cell_type": "markdown",
      "metadata": {
        "id": "SMoGYU5hLBzZ"
      },
      "source": [
        "Sabendo que o objetivo de um boxplot é visualizar e resumir uma variável quantitativa os dados indicam que em transações fraudulentas 25% dos dados equivalem a aproximadamente 5 pessoas afetadas , já a mediana equivale a 10 pessoas e 75% equivalem a 100 pessoas, com o limite superior chegando a quase 250 pessoas que foram vítimas de fraudes.\n",
        "\n",
        "<center><img alt=\"hacker_credit_card\" src=\"https://raw.githubusercontent.com/Yanni-Dhevictor/img/main/hacker_credit_card.jpg\" width=\"40%\"></center>\n",
        "<a href='https://br.freepik.com/vetores/projeto'>Projeto vetor criado por macrovector - br.freepik.com</a>"
      ]
    },
    {
      "cell_type": "markdown",
      "metadata": {
        "id": "qbc9c749VKJv"
      },
      "source": [
        "Já o gráfico das transações líticas é possível notar que 25% das transações foram realizadas entre 5 até próximo a 20 pessoas, com a mediana batendo aproximadamente 20 pessoas, enquando que os outros 25% chegam a valores próximos a 70 pessoas com um limite superior de 170 pessoas que realizaram transações lícitas\n",
        "\n",
        "<center><img alt=\"safe_credit_card\" src=\"https://raw.githubusercontent.com/Yanni-Dhevictor/img/main/safe_creditcard.jpg\" width=\"40%\"></center>\n",
        "<a href='https://br.freepik.com/vetores/negocio'>Negócio vetor criado por pikisuperstar - br.freepik.com</a>"
      ]
    },
    {
      "cell_type": "markdown",
      "metadata": {
        "id": "6ohcUEfD2H7_"
      },
      "source": [
        "Seguindo para a próxima fase, é lidar com a matrix de correlação que possibilitar demonstrar uma possível correlação entre os diferentes atributos existentes no dataset."
      ]
    },
    {
      "cell_type": "code",
      "metadata": {
        "id": "iECSl_ST1vKY",
        "colab": {
          "base_uri": "https://localhost:8080/",
          "height": 441
        },
        "outputId": "7f889173-7358-4766-ad3a-e8e3ca59d161"
      },
      "source": [
        "#correlação\n",
        "plt.figure(figsize = (10, 6))\n",
        "plt.title(\"Matriz de correlação desbalanceada\")\n",
        "correlation = df.corr()\n",
        "mask = np.triu(correlation)\n",
        "#plotagem da matriz de correlação\n",
        "\n",
        "plot = sns.heatmap(correlation,fmt=\".1f\",linewidths=.6,mask=mask)\n",
        "plt.tight_layout()\n",
        "plt.show()\n"
      ],
      "execution_count": 28,
      "outputs": [
        {
          "output_type": "display_data",
          "data": {
            "image/png": "[encoded data removed]",
            "text/plain": [
              "<Figure size 720x432 with 2 Axes>"
            ]
          },
          "metadata": {}
        }
      ]
    },
    {
      "cell_type": "markdown",
      "metadata": {
        "id": "3S6mfP1Y2cXF"
      },
      "source": [
        "Para facilitar o entendimento, há a versão da plotagem com o valores de correlação organizado com o nível de ocorrências, sendo as que mais se relacionam a que possuem uma característica mais \"quente\". "
      ]
    },
    {
      "cell_type": "code",
      "metadata": {
        "colab": {
          "base_uri": "https://localhost:8080/",
          "height": 441
        },
        "id": "Wi3dQHkqPtJ6",
        "outputId": "a4f4c996-97b1-4ae5-fddb-a26a79a281a3"
      },
      "source": [
        "plt.figure(figsize = (10, 6))\n",
        "plt.title(\"Correlação por temperatura\")\n",
        "sns.heatmap(df.corr(),vmin=-1,vmax=1,cmap='coolwarm',mask=mask)\n",
        "plt.tight_layout()\n",
        "plt.show()"
      ],
      "execution_count": 29,
      "outputs": [
        {
          "output_type": "display_data",
          "data": {
            "image/png": "[encoded data removed]",
            "text/plain": [
              "<Figure size 720x432 with 2 Axes>"
            ]
          },
          "metadata": {}
        }
      ]
    },
    {
      "cell_type": "markdown",
      "metadata": {
        "id": "XGMX8rayh4Ne"
      },
      "source": [
        "##Modelo Desbalanceado\n",
        "\n",
        "Nessa etapa iremos treinar o modelo de Machine Learning, tendo já noção de que os dados acima estão representando um dataset desbalanceado, portanto como uma demonstração final, mostrarei a diferença entre um modelo treinado com dados desbalanceados e posteriormente com os dados sendo devidamente balanceados."
      ]
    },
    {
      "cell_type": "markdown",
      "metadata": {
        "id": "KJFYczvfikxX"
      },
      "source": [
        "Para isso seguirei as etapas comuns para construção de qualquer modelo de Machine Learning, acompanhe abaixo.\n"
      ]
    },
    {
      "cell_type": "code",
      "metadata": {
        "id": "z4iIu4_UMjbU",
        "colab": {
          "base_uri": "https://localhost:8080/",
          "height": 686
        },
        "outputId": "75a9234b-a782-4615-cd3d-107de540ddae"
      },
      "source": [
        "#Separando as variáveis de X e y\n",
        "X = df.drop('Class',axis=1)\n",
        "y = df['Class']\n",
        "\n",
        "#Dividir o dataset entre treino e teste\n",
        "X_train, X_test, y_train, y_test = train_test_split(X, y, stratify=y, shuffle = True)\n",
        "\n",
        "#Escolhendo e instanciando o modelo de Regressão Logística\n",
        "model = LogisticRegression()\n",
        "model.fit(X_train,y_train)\n",
        "\n",
        "#Fazer as previsões em cima dos dados de teste\n",
        "y_pred = model.predict(X_test)\n",
        "y_proba = model.predict(X_test)\n",
        "\n",
        "#Plotando a matriz de confusão\n",
        "skplt.metrics.plot_confusion_matrix(y_test, y_pred, normalize = True)\n",
        "\n",
        "#Imprimir relatório de classificação\n",
        "print(\"\\nRelatório de classificação: \\n\", classification_report(y_test, y_pred, digits=4))\n",
        "\n",
        "#Imprimindo a acurácia do modelo\n",
        "print(\"Acurácia: {:.4f}\\n\".format(accuracy_score(y_test, y_pred)))\n",
        "\n",
        "#Imprimir a área sob a curva\n",
        "print(\"AUC: {:.4f}\\n\".format(roc_auc_score(y_test,y_pred)))\n",
        "\n",
        "fig.show()"
      ],
      "execution_count": 22,
      "outputs": [
        {
          "output_type": "stream",
          "name": "stderr",
          "text": [
            "/usr/local/lib/python3.7/dist-packages/sklearn/linear_model/_logistic.py:940: ConvergenceWarning: lbfgs failed to converge (status=1):\n",
            "STOP: TOTAL NO. of ITERATIONS REACHED LIMIT.\n",
            "\n",
            "Increase the number of iterations (max_iter) or scale the data as shown in:\n",
            "    https://scikit-learn.org/stable/modules/preprocessing.html\n",
            "Please also refer to the documentation for alternative solver options:\n",
            "    https://scikit-learn.org/stable/modules/linear_model.html#logistic-regression\n",
            "  extra_warning_msg=_LOGISTIC_SOLVER_CONVERGENCE_MSG)\n"
          ]
        },
        {
          "output_type": "stream",
          "name": "stdout",
          "text": [
            "\n",
            "Relatório de classificação: \n",
            "               precision    recall  f1-score   support\n",
            "\n",
            "           0     0.9995    0.9995    0.9995     71079\n",
            "           1     0.7083    0.6911    0.6996       123\n",
            "\n",
            "    accuracy                         0.9990     71202\n",
            "   macro avg     0.8539    0.8453    0.8495     71202\n",
            "weighted avg     0.9990    0.9990    0.9990     71202\n",
            "\n",
            "Acurácia: 0.9990\n",
            "\n",
            "AUC: 0.8453\n",
            "\n"
          ]
        },
        {
          "output_type": "display_data",
          "data": {
            "image/png": "[encoded data removed]",
            "text/plain": [
              "<Figure size 432x288 with 2 Axes>"
            ]
          },
          "metadata": {}
        }
      ]
    },
    {
      "cell_type": "markdown",
      "metadata": {
        "id": "h_JFOvyzbH1l"
      },
      "source": [
        "Desse gráfico é possível extrair que o modelo conseguiu identificar bem as instancias quando o 'df.Class == 0' ou seja, transações normais no entanto seu resultado não foi agradável quanto a identificação de instancias onde as transações são fraudulentas, atingindo somente a porcentagem de 67% (ou 0,67)"
      ]
    },
    {
      "cell_type": "markdown",
      "metadata": {
        "id": "YZH16dV6fUWX"
      },
      "source": [
        "<center><img alt=\"programmer\" src=\"https://raw.githubusercontent.com/Yanni-Dhevictor/img/main/programmer.jpg\" width=\"40%\"></center>\n",
        "<a href='https://br.freepik.com/vetores/pessoas'>Pessoas vetor criado por pikisuperstar - br.freepik.com</a>"
      ]
    },
    {
      "cell_type": "markdown",
      "metadata": {
        "id": "di5R5CPQZrbD"
      },
      "source": [
        "Com os dados do desbalanceados o modelo de Machine Learning retornou uma acurácia de 99%, um resultado espetacular se o dataset não estivesse desbalanceado, no entanto para realmente seja obtido dados úteis e reais possibilitando dessa forma detectar os *casos de fraude de cartão de crédito*, se faz necessário o balanceamento dos dados antes do treino, para isso será usado o **under-sampling**, acompanhe abaixo.\n"
      ]
    },
    {
      "cell_type": "code",
      "metadata": {
        "colab": {
          "base_uri": "https://localhost:8080/",
          "height": 316
        },
        "id": "6UstgqlHZqE4",
        "outputId": "7f736bf1-5736-4555-9b44-e0af2ad31091"
      },
      "source": [
        "#Usando o under-sampling\n",
        "rus = RandomUnderSampler()\n",
        "X_res, y_res = rus.fit_sample(X_train,y_train)\n",
        "\n",
        "#Ver o balanceamento de classes\n",
        "print(pd.Series(y_res).value_counts())\n",
        "\n",
        "#Plotando a nova distribuição de classes\n",
        "sns.countplot(y_res);"
      ],
      "execution_count": 23,
      "outputs": [
        {
          "output_type": "stream",
          "name": "stdout",
          "text": [
            "1    369\n",
            "0    369\n",
            "dtype: int64\n"
          ]
        },
        {
          "output_type": "display_data",
          "data": {
            "image/png": "[encoded data removed]",
            "text/plain": [
              "<Figure size 432x288 with 1 Axes>"
            ]
          },
          "metadata": {}
        }
      ]
    },
    {
      "cell_type": "markdown",
      "metadata": {
        "id": "lCQKUgBa4Sls"
      },
      "source": [
        "Comparando agora a matriz de correlação balanceada, é possível notar um diferença visível entre as variáveis do dataset e seus relacionamentos."
      ]
    },
    {
      "cell_type": "code",
      "metadata": {
        "id": "aU6jMbR76XFy"
      },
      "source": [
        "#Novo Dataframe balanceado\n",
        "correlation_balanced = pd.DataFrame(X_res).corr()"
      ],
      "execution_count": 24,
      "outputs": []
    },
    {
      "cell_type": "code",
      "metadata": {
        "id": "8C93ueF1EER0"
      },
      "source": [
        "#Criando a máscara diagonal superior\n",
        "mask = np.zeros_like(correlation_balanced)\n",
        "mask[np.triu_indices_from(mask)] = True"
      ],
      "execution_count": 25,
      "outputs": []
    },
    {
      "cell_type": "code",
      "metadata": {
        "id": "a6S-5YKJtp5i",
        "colab": {
          "base_uri": "https://localhost:8080/",
          "height": 441
        },
        "outputId": "c68a7d08-7160-4ba6-dc5f-1e67fc6496dc"
      },
      "source": [
        "#Plotando matriz de correlação Balanceada\n",
        "plt.figure(figsize = (12, 6))\n",
        "plt.title(\"Matriz de correlação balanceada\")\n",
        "\n",
        "sns.heatmap(correlation_balanced,mask = mask , fmt=\".1f\",linewidths=.6,cmap = 'coolwarm')\n",
        "plt.tight_layout()\n",
        "plt.show()\n",
        "\n"
      ],
      "execution_count": 26,
      "outputs": [
        {
          "output_type": "display_data",
          "data": {
            "image/png": "[encoded data removed]",
            "text/plain": [
              "<Figure size 864x432 with 2 Axes>"
            ]
          },
          "metadata": {}
        }
      ]
    },
    {
      "cell_type": "markdown",
      "metadata": {
        "id": "qtwfd8BfGHTx"
      },
      "source": [
        "Após o balanceamento dos dados a matriz de correlação se apresenta um pouco mais clara de identificar quais variáveis realmente estão possuindo uma correlação tornando o entendimento sobre o dataset."
      ]
    },
    {
      "cell_type": "markdown",
      "metadata": {
        "id": "yn3GedVgrLaq"
      },
      "source": [
        "Com os dados agora devidamento balanceados, o problema inicial que foi encontrado não afetará mais os resultados das operações realizadas adiante.\n",
        "\n",
        "Agora os dados balanceados passam por um treino e com isso será possível determinar a disparidade entre os dados balanceados e desbalanceados."
      ]
    },
    {
      "cell_type": "code",
      "metadata": {
        "id": "oaFWkfqYxdrk",
        "colab": {
          "base_uri": "https://localhost:8080/",
          "height": 533
        },
        "outputId": "8a5345b5-2ec5-4bd2-a375-84c750846d4d"
      },
      "source": [
        "#Instanciando e treinando o modelo de regressão logistica\n",
        "model_res = LogisticRegression()\n",
        "model_res.fit(X_res, y_res)\n",
        "\n",
        "#Realizando a previsão em cima dos dados de teste\n",
        "y_pred_res = model_res.predict(X_test)\n",
        "y_proba_res = model_res.predict_proba(X_test)\n",
        "\n",
        "#Plotando a matrix de confusão\n",
        "skplt.metrics.plot_confusion_matrix(y_test,y_pred,normalize=True)\n",
        "\n",
        "#Imprimindo o classification report\n",
        "print(\"Relatório de Classificação:\\n\", classification_report(y_test,y_pred_res,digits=4))\n",
        "\n",
        "#Imprimir a acurácia do modelo\n",
        "print(\"Acurácia: {:.4f}\\n\".format(accuracy_score(y_test,y_pred_res)))\n",
        "\n",
        "#Imprimir a área sob a curva\n",
        "print(\"AUC: {:.4f}\\n\".format(roc_auc_score(y_test,y_pred_res)))\n"
      ],
      "execution_count": 30,
      "outputs": [
        {
          "output_type": "stream",
          "name": "stdout",
          "text": [
            "Relatório de Classificação:\n",
            "               precision    recall  f1-score   support\n",
            "\n",
            "           0     0.9998    0.9669    0.9831     71079\n",
            "           1     0.0447    0.8943    0.0851       123\n",
            "\n",
            "    accuracy                         0.9668     71202\n",
            "   macro avg     0.5222    0.9306    0.5341     71202\n",
            "weighted avg     0.9982    0.9668    0.9815     71202\n",
            "\n",
            "Acurácia: 0.9668\n",
            "\n",
            "AUC: 0.9306\n",
            "\n"
          ]
        },
        {
          "output_type": "display_data",
          "data": {
            "image/png": "[encoded data removed]",
            "text/plain": [
              "<Figure size 432x288 with 2 Axes>"
            ]
          },
          "metadata": {}
        }
      ]
    },
    {
      "cell_type": "markdown",
      "metadata": {
        "id": "pcEl45Kq5bb8"
      },
      "source": [
        "Analisando os resultados obtidos e comparando com os valores anteriores é possível perceber uma pequena diminuição na acurácia de 99% com dados desbalanceados para 92% com os dados balanceados, no entanto os outro valores permaneceram o mesmo."
      ]
    },
    {
      "cell_type": "markdown",
      "metadata": {
        "id": "rThakkrrHG5h"
      },
      "source": [
        "#Conclusão\n",
        "\n",
        "Ao lidar com dados para treino e teste de um modelo de machine learning é de fundamental atividade analisar o balanceamento dos dados e entender o que ele está querendo dizer para você, compreender qual a finalidade daquele modelo também vai definir como você irá estruturar seu projeto, pois a medida que a pesquisa estiver sendo feita, irão aparecer inúmeros métodos de balancear os dados com objetivos e características singulares, por isso não é só um processo de \"investigação\" dos dados para retirar respostas, mas encontrar a melhor forma de responder as perguntas que são feitas para aquele que irá manipular esses dados.\n",
        "\n",
        "Obrigado por ler o projeto até aqui e agradeço sua atenção.\n",
        "\n",
        "<center><img alt=\"light_bulb\" src=\"https://raw.githubusercontent.com/Yanni-Dhevictor/img/main/light-bulb.jpg\" width=\"50%\"></center>\n",
        "<a href='https://br.freepik.com/vetores/luz'>Luz vetor criado por rawpixel.com - br.freepik.com</a>"
      ]
    },
    {
      "cell_type": "code",
      "metadata": {
        "id": "m-MIMjuAE8Mt"
      },
      "source": [
        ""
      ],
      "execution_count": null,
      "outputs": []
    }
  ]
}